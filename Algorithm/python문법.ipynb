{
  "nbformat": 4,
  "nbformat_minor": 0,
  "metadata": {
    "colab": {
      "provenance": []
    },
    "kernelspec": {
      "name": "python3",
      "display_name": "Python 3"
    },
    "language_info": {
      "name": "python"
    }
  },
  "cells": [
    {
      "cell_type": "markdown",
      "source": [
        "## 파이썬 List, Dictionary의 반복문에서의 기본 메커니즘."
      ],
      "metadata": {
        "id": "kTNvNEElEXY-"
      }
    },
    {
      "cell_type": "code",
      "execution_count": 1,
      "metadata": {
        "colab": {
          "base_uri": "https://localhost:8080/"
        },
        "id": "ihPEHzk-D85s",
        "outputId": "5373673e-55cd-4fa2-adb7-4d324ebd04ff"
      },
      "outputs": [
        {
          "output_type": "stream",
          "name": "stdout",
          "text": [
            "1 2\n",
            "2 3 4\n"
          ]
        }
      ],
      "source": [
        "# multi assign\n",
        "a, b = 1, 2\n",
        "print(a, b)\n",
        "\n",
        "a, b, c = [2, 3, 4]\n",
        "print(a, b, c)"
      ]
    },
    {
      "cell_type": "code",
      "source": [
        "def func1():\n",
        "    return 1, 2\n",
        "\n",
        "def func2():  \n",
        "    return [1, 2]\n",
        "\n",
        "a, b = func1()\n",
        "c, d = func2()\n",
        "print(a, b)\n",
        "print(c, d)"
      ],
      "metadata": {
        "colab": {
          "base_uri": "https://localhost:8080/"
        },
        "id": "QLIhTuqyEBhP",
        "outputId": "1b817473-7775-485f-9363-ae4bbb225a7f"
      },
      "execution_count": 5,
      "outputs": [
        {
          "output_type": "stream",
          "name": "stdout",
          "text": [
            "1 2\n",
            "1 2\n"
          ]
        }
      ]
    },
    {
      "cell_type": "code",
      "source": [
        "members = [\n",
        "    ['홍길동', 'A회사', '대구'],\n",
        "    ['일지매', 'A회사', '서울'],\n",
        "    ['신짱구', 'C회사', '부산'],\n",
        "]\n",
        "\n",
        "for i in range(3):\n",
        "    print(members[i])\n",
        "\n",
        "print()\n",
        "\n",
        "for m in members:\n",
        "    print(m[0], m[1], m[2])\n",
        "\n",
        "print()\n",
        "\n",
        "for name, company, stay in members:\n",
        "    print(name, company, stay)"
      ],
      "metadata": {
        "colab": {
          "base_uri": "https://localhost:8080/"
        },
        "id": "1H3xEpvQED_1",
        "outputId": "f98e2fde-5385-4962-a88d-da6cece5fa13"
      },
      "execution_count": 8,
      "outputs": [
        {
          "output_type": "stream",
          "name": "stdout",
          "text": [
            "['홍길동', 'A회사', '대구']\n",
            "['일지매', 'A회사', '서울']\n",
            "['신짱구', 'C회사', '부산']\n",
            "\n",
            "홍길동 A회사 대구\n",
            "일지매 A회사 서울\n",
            "신짱구 C회사 부산\n",
            "\n",
            "홍길동 A회사 대구\n",
            "일지매 A회사 서울\n",
            "신짱구 C회사 부산\n"
          ]
        }
      ]
    },
    {
      "cell_type": "code",
      "source": [
        "animals = {'cat': 1, 'dog': 2, 'sheep': 4, 'fish': 2}\n",
        "\n",
        "for k, v in animals.items():\n",
        "    print(k, v)"
      ],
      "metadata": {
        "colab": {
          "base_uri": "https://localhost:8080/"
        },
        "id": "ExggqVjKFg4_",
        "outputId": "747fab5c-30af-4741-d229-3eec93f5c972"
      },
      "execution_count": 9,
      "outputs": [
        {
          "output_type": "stream",
          "name": "stdout",
          "text": [
            "cat 1\n",
            "dog 2\n",
            "sheep 4\n",
            "fish 2\n"
          ]
        }
      ]
    },
    {
      "cell_type": "code",
      "source": [
        "animals = ['cat', 'dog', 'sheep', 'fish']\n",
        "\n",
        "for i in range(4):\n",
        "    print(i, animals[i])\n",
        "\n",
        "print()\n",
        "\n",
        "for i, e in enumerate(animals):\n",
        "    print(i, e)"
      ],
      "metadata": {
        "colab": {
          "base_uri": "https://localhost:8080/"
        },
        "id": "ToocewbFFjkP",
        "outputId": "85ba44b5-98db-4f74-d0a9-f4599d1fd023"
      },
      "execution_count": 11,
      "outputs": [
        {
          "output_type": "stream",
          "name": "stdout",
          "text": [
            "0 cat\n",
            "1 dog\n",
            "2 sheep\n",
            "3 fish\n",
            "\n",
            "0 cat\n",
            "1 dog\n",
            "2 sheep\n",
            "3 fish\n"
          ]
        }
      ]
    },
    {
      "cell_type": "code",
      "source": [
        "names = ['홍길동', '일지매', '신짱구']\n",
        "company = ['A회사', 'B회사', 'C회사']\n",
        "\n",
        "for i in range(len(names)):\n",
        "    print(names[i], company[i])\n",
        "\n",
        "print()\n",
        "\n",
        "for n, c in zip(names, company):\n",
        "    print(n, c)\n"
      ],
      "metadata": {
        "colab": {
          "base_uri": "https://localhost:8080/"
        },
        "id": "TgO0U6t1Fopl",
        "outputId": "3a515a70-6428-4995-d3af-e28e9e3f12e2"
      },
      "execution_count": 13,
      "outputs": [
        {
          "output_type": "stream",
          "name": "stdout",
          "text": [
            "홍길동 A회사\n",
            "일지매 B회사\n",
            "신짱구 C회사\n",
            "\n",
            "홍길동 A회사\n",
            "일지매 B회사\n",
            "신짱구 C회사\n"
          ]
        }
      ]
    }
  ]
}